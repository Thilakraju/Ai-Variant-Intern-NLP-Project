{
 "cells": [
  {
   "cell_type": "markdown",
   "id": "fedb65c6",
   "metadata": {},
   "source": [
    "### NLP Project - Resume (Preprocessing - File Type Conversion)\n",
    "\n",
    "- In our Dataset of Resume we have 3 types of Files (.doc), (.docx) & (.pdf)\n",
    "- We Need All the Files to be of one Extension i.e (.docx) for feature extraction / EDA\n",
    "- Basically in this Step of Preprocessing we are making all the Files to have One Extension\n",
    " \n",
    "#### Steps to follows for this file:\n",
    "- Create a Folder \"Resumes_Dataset\" in your downloads folder.\n",
    "- Copy all the 79 Resumes to this \"Resumes_Dataset\" Folder.\n",
    "- Change the path \"C:/Users/Akaash/Downloads/\" to yours Accordingly and run the file Cell by Cell"
   ]
  },
  {
   "cell_type": "markdown",
   "id": "829895a1",
   "metadata": {},
   "source": [
    "#### Converting Doc to Docx"
   ]
  },
  {
   "cell_type": "code",
   "execution_count": 1,
   "id": "e842d8cc",
   "metadata": {},
   "outputs": [],
   "source": [
    "#!/usr/bin/env python\n",
    "import os\n",
    "import re\n",
    "import glob\n",
    "import win32com.client\n",
    "\n",
    "word = win32com.client.Dispatch(\"Word.Application\")\n",
    "\n",
    "for i, doc in enumerate(glob.iglob(\"C:/Users/Akaash/Downloads/Resumes_Dataset/*.doc\")):\n",
    "    in_file = os.path.abspath(doc)\n",
    "    wb = word.Documents.Open(in_file)\n",
    "    out_file = re.sub(r'\\.\\w+$', '.docx', in_file)\n",
    "    wb.SaveAs2(out_file, FileFormat=16) # file format for docx\n",
    "    wb.Close()\n",
    "\n",
    "word.Quit()"
   ]
  },
  {
   "cell_type": "markdown",
   "id": "e339c060",
   "metadata": {},
   "source": [
    "Inference: \"The Resumes_Dataset\" will have converted resumes to docx extension"
   ]
  },
  {
   "cell_type": "markdown",
   "id": "2498be16",
   "metadata": {},
   "source": [
    "#### Converting pdf to docx"
   ]
  },
  {
   "cell_type": "code",
   "execution_count": 2,
   "id": "9360e098",
   "metadata": {},
   "outputs": [
    {
     "name": "stderr",
     "output_type": "stream",
     "text": [
      "[INFO] Start to convert C:/Users/Akaash/Downloads/Resumes_Dataset/Reactjs Developer_Prabakaran_Musquare Technologies.pdf\n",
      "[INFO] \u001b[1;36m[1/4] Opening document...\u001b[0m\n",
      "[INFO] \u001b[1;36m[2/4] Analyzing document...\u001b[0m\n",
      "[INFO] \u001b[1;36m[3/4] Parsing pages...\u001b[0m\n",
      "[INFO] (1/2) Page 1\n",
      "[INFO] (2/2) Page 2\n",
      "[INFO] \u001b[1;36m[4/4] Creating pages...\u001b[0m\n",
      "[INFO] (1/2) Page 1\n",
      "[INFO] (2/2) Page 2\n",
      "[INFO] Terminated in 9.72s.\n"
     ]
    }
   ],
   "source": [
    "#Importing the Required Library\n",
    "from pdf2docx import parse\n",
    "#Defining the Path\n",
    "pdfdoc = 'C:/Users/Akaash/Downloads/Resumes_Dataset/Reactjs Developer_Prabakaran_Musquare Technologies.pdf'\n",
    "todocx = 'C:/Users/Akaash/Downloads/Resumes_Dataset/Reactjs Developer_Prabakaran_Musquare Technologies.docx'\n",
    "#Converting\n",
    "parse(pdfdoc, todocx, start=0, end=None)"
   ]
  },
  {
   "cell_type": "markdown",
   "id": "9017a723",
   "metadata": {},
   "source": [
    "Inference: pdf to docx is converted"
   ]
  },
  {
   "cell_type": "markdown",
   "id": "84af87ea",
   "metadata": {},
   "source": [
    "#### Deleting the Original Doc & pdf file"
   ]
  },
  {
   "cell_type": "code",
   "execution_count": 3,
   "id": "388d4829",
   "metadata": {},
   "outputs": [],
   "source": [
    "dir_name = \"C:/Users/Akaash/Downloads/Resumes_Dataset/\"\n",
    "paths = os.listdir(dir_name)\n",
    "\n",
    "for item in paths:\n",
    "    if item.endswith(\".doc\"):\n",
    "        os.remove(os.path.join(dir_name, item))\n",
    "    elif item.endswith(\".pdf\"):\n",
    "        os.remove(os.path.join(dir_name, item))"
   ]
  },
  {
   "cell_type": "markdown",
   "id": "80060b5e",
   "metadata": {},
   "source": [
    "Inference: Original Files are Deleted, Now the \"Resumes_Dataset\" has 79 Files of (.docx) extension, will work will this Dataset for Further EDA"
   ]
  },
  {
   "cell_type": "code",
   "execution_count": null,
   "id": "203848fa",
   "metadata": {},
   "outputs": [],
   "source": []
  }
 ],
 "metadata": {
  "kernelspec": {
   "display_name": "Python 3 (ipykernel)",
   "language": "python",
   "name": "python3"
  },
  "language_info": {
   "codemirror_mode": {
    "name": "ipython",
    "version": 3
   },
   "file_extension": ".py",
   "mimetype": "text/x-python",
   "name": "python",
   "nbconvert_exporter": "python",
   "pygments_lexer": "ipython3",
   "version": "3.9.13"
  }
 },
 "nbformat": 4,
 "nbformat_minor": 5
}

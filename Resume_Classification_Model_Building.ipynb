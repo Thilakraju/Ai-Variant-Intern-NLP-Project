{
 "cells": [
  {
   "cell_type": "markdown",
   "id": "42f7a8f3",
   "metadata": {
    "id": "42f7a8f3"
   },
   "source": [
    "# Problem Statement\n",
    "## The document classification solution should significantly reduce the manual human effort in the HRM. It should achieve a higher level of accuracy and automation with minimal human intervention.\n",
    "\n"
   ]
  },
  {
   "cell_type": "markdown",
   "id": "5a129998",
   "metadata": {
    "id": "5a129998"
   },
   "source": [
    "## Importing Libraries"
   ]
  },
  {
   "cell_type": "code",
   "execution_count": 1,
   "id": "iGS6tJW4SDKG",
   "metadata": {
    "id": "iGS6tJW4SDKG"
   },
   "outputs": [],
   "source": [
    "#!pip install xgboost\n",
    "#!pip install scikit-learn==1.3.0"
   ]
  },
  {
   "cell_type": "code",
   "execution_count": 2,
   "id": "65effec8",
   "metadata": {
    "id": "65effec8"
   },
   "outputs": [],
   "source": [
    "import pandas as pd\n",
    "import numpy as np\n",
    "import matplotlib.pyplot as plt\n",
    "\n",
    "import warnings\n",
    "warnings.filterwarnings(\"ignore\")\n",
    "from scipy.stats import randint\n",
    "\n",
    "import re  #regular expression\n",
    "from sklearn.feature_extraction.text import CountVectorizer ,TfidfVectorizer\n",
    "from sklearn.model_selection import train_test_split\n",
    "from sklearn.model_selection import GridSearchCV,RandomizedSearchCV\n",
    "\n",
    "from sklearn.linear_model import LogisticRegression\n",
    "from sklearn.naive_bayes import MultinomialNB\n",
    "from sklearn.ensemble import BaggingClassifier\n",
    "from sklearn.ensemble import AdaBoostClassifier\n",
    "from sklearn.tree import DecisionTreeClassifier\n",
    "from sklearn.neighbors import KNeighborsClassifier\n",
    "from sklearn.ensemble import RandomForestClassifier\n",
    "from sklearn.metrics import classification_report\n",
    "from sklearn.model_selection import cross_val_score\n",
    "from xgboost import XGBClassifier\n",
    "from sklearn import metrics\n",
    "from sklearn.svm import SVC\n",
    "import pickle\n",
    "\n",
    "from sklearn.tree import export_graphviz\n",
    "#from IPython.display import Image\n",
    "#import graphviz"
   ]
  },
  {
   "cell_type": "markdown",
   "id": "e64ae4a8",
   "metadata": {
    "id": "e64ae4a8"
   },
   "source": [
    "# Importing DataSet"
   ]
  },
  {
   "cell_type": "markdown",
   "id": "357a24b1",
   "metadata": {
    "id": "357a24b1"
   },
   "source": [
    "We have saved the resume data in to csv file after performing EDA. We are going to use the same for further model building."
   ]
  },
  {
   "cell_type": "code",
   "execution_count": 3,
   "id": "343fe130",
   "metadata": {
    "id": "343fe130"
   },
   "outputs": [],
   "source": [
    "resume_data=pd.read_csv(\"Cleaned_Resume_Data.csv\")"
   ]
  },
  {
   "cell_type": "code",
   "execution_count": 4,
   "id": "39a8bb9a",
   "metadata": {
    "colab": {
     "base_uri": "https://localhost:8080/",
     "height": 206
    },
    "id": "39a8bb9a",
    "outputId": "8e010d3a-368d-4fec-df09-6000d1401f07"
   },
   "outputs": [
    {
     "data": {
      "text/html": [
       "<div>\n",
       "<style scoped>\n",
       "    .dataframe tbody tr th:only-of-type {\n",
       "        vertical-align: middle;\n",
       "    }\n",
       "\n",
       "    .dataframe tbody tr th {\n",
       "        vertical-align: top;\n",
       "    }\n",
       "\n",
       "    .dataframe thead th {\n",
       "        text-align: right;\n",
       "    }\n",
       "</style>\n",
       "<table border=\"1\" class=\"dataframe\">\n",
       "  <thead>\n",
       "    <tr style=\"text-align: right;\">\n",
       "      <th></th>\n",
       "      <th>Resume_Text</th>\n",
       "      <th>Category</th>\n",
       "    </tr>\n",
       "  </thead>\n",
       "  <tbody>\n",
       "    <tr>\n",
       "      <th>0</th>\n",
       "      <td>anubhav kumar singh core competency scripting ...</td>\n",
       "      <td>0</td>\n",
       "    </tr>\n",
       "    <tr>\n",
       "      <th>1</th>\n",
       "      <td>g ananda rayudu httpswwwlinkedincominanandguda...</td>\n",
       "      <td>0</td>\n",
       "    </tr>\n",
       "    <tr>\n",
       "      <th>2</th>\n",
       "      <td>peoplesoft database administrator gangareddy p...</td>\n",
       "      <td>0</td>\n",
       "    </tr>\n",
       "    <tr>\n",
       "      <th>3</th>\n",
       "      <td>classification internal classification interna...</td>\n",
       "      <td>0</td>\n",
       "    </tr>\n",
       "    <tr>\n",
       "      <th>4</th>\n",
       "      <td>priyanka ramadoss mountpleasant coonoor nilgir...</td>\n",
       "      <td>0</td>\n",
       "    </tr>\n",
       "  </tbody>\n",
       "</table>\n",
       "</div>"
      ],
      "text/plain": [
       "                                         Resume_Text  Category\n",
       "0  anubhav kumar singh core competency scripting ...         0\n",
       "1  g ananda rayudu httpswwwlinkedincominanandguda...         0\n",
       "2  peoplesoft database administrator gangareddy p...         0\n",
       "3  classification internal classification interna...         0\n",
       "4  priyanka ramadoss mountpleasant coonoor nilgir...         0"
      ]
     },
     "execution_count": 4,
     "metadata": {},
     "output_type": "execute_result"
    }
   ],
   "source": [
    "resume_data.head(5)"
   ]
  },
  {
   "cell_type": "markdown",
   "id": "9a3888a8",
   "metadata": {
    "id": "9a3888a8"
   },
   "source": [
    "# Feature Extraction"
   ]
  },
  {
   "cell_type": "code",
   "execution_count": 5,
   "id": "3c838458",
   "metadata": {
    "id": "3c838458"
   },
   "outputs": [],
   "source": [
    "#We have to extract features from Resume_Text column\n",
    "\n",
    "vectorizer = TfidfVectorizer()\n",
    "#cv = TfidfVectorizer(max_features = 1000)\n",
    "# X contains corpus (dependent variable)\n",
    "\n",
    "X = vectorizer.fit_transform(resume_data.Resume_Text.values).toarray()\n",
    "X=pd.DataFrame(X,columns=vectorizer.get_feature_names_out())"
   ]
  },
  {
   "cell_type": "markdown",
   "id": "01f6564b",
   "metadata": {
    "id": "01f6564b"
   },
   "source": [
    "# Features/Target Column"
   ]
  },
  {
   "cell_type": "code",
   "execution_count": 6,
   "id": "f0d81657",
   "metadata": {
    "colab": {
     "base_uri": "https://localhost:8080/",
     "height": 444
    },
    "id": "f0d81657",
    "outputId": "3fcec041-b954-4ddd-d36b-bd479acbe0eb"
   },
   "outputs": [
    {
     "data": {
      "text/html": [
       "<div>\n",
       "<style scoped>\n",
       "    .dataframe tbody tr th:only-of-type {\n",
       "        vertical-align: middle;\n",
       "    }\n",
       "\n",
       "    .dataframe tbody tr th {\n",
       "        vertical-align: top;\n",
       "    }\n",
       "\n",
       "    .dataframe thead th {\n",
       "        text-align: right;\n",
       "    }\n",
       "</style>\n",
       "<table border=\"1\" class=\"dataframe\">\n",
       "  <thead>\n",
       "    <tr style=\"text-align: right;\">\n",
       "      <th></th>\n",
       "      <th>aa</th>\n",
       "      <th>ab</th>\n",
       "      <th>abdul</th>\n",
       "      <th>abilitiescommunication</th>\n",
       "      <th>ability</th>\n",
       "      <th>able</th>\n",
       "      <th>abovementioned</th>\n",
       "      <th>abreast</th>\n",
       "      <th>absence</th>\n",
       "      <th>absent</th>\n",
       "      <th>...</th>\n",
       "      <th>young</th>\n",
       "      <th>youre</th>\n",
       "      <th>yoursincerely</th>\n",
       "      <th>yr</th>\n",
       "      <th>zealand</th>\n",
       "      <th>zenefits</th>\n",
       "      <th>zero</th>\n",
       "      <th>zerozilla</th>\n",
       "      <th>zone</th>\n",
       "      <th>zp</th>\n",
       "    </tr>\n",
       "  </thead>\n",
       "  <tbody>\n",
       "    <tr>\n",
       "      <th>0</th>\n",
       "      <td>0.0</td>\n",
       "      <td>0.0</td>\n",
       "      <td>0.0</td>\n",
       "      <td>0.0</td>\n",
       "      <td>0.000000</td>\n",
       "      <td>0.0</td>\n",
       "      <td>0.000000</td>\n",
       "      <td>0.000000</td>\n",
       "      <td>0.000000</td>\n",
       "      <td>0.0</td>\n",
       "      <td>...</td>\n",
       "      <td>0.0</td>\n",
       "      <td>0.0</td>\n",
       "      <td>0.0</td>\n",
       "      <td>0.0</td>\n",
       "      <td>0.000000</td>\n",
       "      <td>0.0</td>\n",
       "      <td>0.0</td>\n",
       "      <td>0.0</td>\n",
       "      <td>0.0</td>\n",
       "      <td>0.0</td>\n",
       "    </tr>\n",
       "    <tr>\n",
       "      <th>1</th>\n",
       "      <td>0.0</td>\n",
       "      <td>0.0</td>\n",
       "      <td>0.0</td>\n",
       "      <td>0.0</td>\n",
       "      <td>0.000000</td>\n",
       "      <td>0.0</td>\n",
       "      <td>0.029178</td>\n",
       "      <td>0.000000</td>\n",
       "      <td>0.000000</td>\n",
       "      <td>0.0</td>\n",
       "      <td>...</td>\n",
       "      <td>0.0</td>\n",
       "      <td>0.0</td>\n",
       "      <td>0.0</td>\n",
       "      <td>0.0</td>\n",
       "      <td>0.000000</td>\n",
       "      <td>0.0</td>\n",
       "      <td>0.0</td>\n",
       "      <td>0.0</td>\n",
       "      <td>0.0</td>\n",
       "      <td>0.0</td>\n",
       "    </tr>\n",
       "    <tr>\n",
       "      <th>2</th>\n",
       "      <td>0.0</td>\n",
       "      <td>0.0</td>\n",
       "      <td>0.0</td>\n",
       "      <td>0.0</td>\n",
       "      <td>0.000000</td>\n",
       "      <td>0.0</td>\n",
       "      <td>0.000000</td>\n",
       "      <td>0.039849</td>\n",
       "      <td>0.000000</td>\n",
       "      <td>0.0</td>\n",
       "      <td>...</td>\n",
       "      <td>0.0</td>\n",
       "      <td>0.0</td>\n",
       "      <td>0.0</td>\n",
       "      <td>0.0</td>\n",
       "      <td>0.000000</td>\n",
       "      <td>0.0</td>\n",
       "      <td>0.0</td>\n",
       "      <td>0.0</td>\n",
       "      <td>0.0</td>\n",
       "      <td>0.0</td>\n",
       "    </tr>\n",
       "    <tr>\n",
       "      <th>3</th>\n",
       "      <td>0.0</td>\n",
       "      <td>0.0</td>\n",
       "      <td>0.0</td>\n",
       "      <td>0.0</td>\n",
       "      <td>0.000000</td>\n",
       "      <td>0.0</td>\n",
       "      <td>0.000000</td>\n",
       "      <td>0.000000</td>\n",
       "      <td>0.000000</td>\n",
       "      <td>0.0</td>\n",
       "      <td>...</td>\n",
       "      <td>0.0</td>\n",
       "      <td>0.0</td>\n",
       "      <td>0.0</td>\n",
       "      <td>0.0</td>\n",
       "      <td>0.000000</td>\n",
       "      <td>0.0</td>\n",
       "      <td>0.0</td>\n",
       "      <td>0.0</td>\n",
       "      <td>0.0</td>\n",
       "      <td>0.0</td>\n",
       "    </tr>\n",
       "    <tr>\n",
       "      <th>4</th>\n",
       "      <td>0.0</td>\n",
       "      <td>0.0</td>\n",
       "      <td>0.0</td>\n",
       "      <td>0.0</td>\n",
       "      <td>0.021730</td>\n",
       "      <td>0.0</td>\n",
       "      <td>0.000000</td>\n",
       "      <td>0.000000</td>\n",
       "      <td>0.000000</td>\n",
       "      <td>0.0</td>\n",
       "      <td>...</td>\n",
       "      <td>0.0</td>\n",
       "      <td>0.0</td>\n",
       "      <td>0.0</td>\n",
       "      <td>0.0</td>\n",
       "      <td>0.000000</td>\n",
       "      <td>0.0</td>\n",
       "      <td>0.0</td>\n",
       "      <td>0.0</td>\n",
       "      <td>0.0</td>\n",
       "      <td>0.0</td>\n",
       "    </tr>\n",
       "    <tr>\n",
       "      <th>...</th>\n",
       "      <td>...</td>\n",
       "      <td>...</td>\n",
       "      <td>...</td>\n",
       "      <td>...</td>\n",
       "      <td>...</td>\n",
       "      <td>...</td>\n",
       "      <td>...</td>\n",
       "      <td>...</td>\n",
       "      <td>...</td>\n",
       "      <td>...</td>\n",
       "      <td>...</td>\n",
       "      <td>...</td>\n",
       "      <td>...</td>\n",
       "      <td>...</td>\n",
       "      <td>...</td>\n",
       "      <td>...</td>\n",
       "      <td>...</td>\n",
       "      <td>...</td>\n",
       "      <td>...</td>\n",
       "      <td>...</td>\n",
       "      <td>...</td>\n",
       "    </tr>\n",
       "    <tr>\n",
       "      <th>74</th>\n",
       "      <td>0.0</td>\n",
       "      <td>0.0</td>\n",
       "      <td>0.0</td>\n",
       "      <td>0.0</td>\n",
       "      <td>0.014787</td>\n",
       "      <td>0.0</td>\n",
       "      <td>0.000000</td>\n",
       "      <td>0.000000</td>\n",
       "      <td>0.043981</td>\n",
       "      <td>0.0</td>\n",
       "      <td>...</td>\n",
       "      <td>0.0</td>\n",
       "      <td>0.0</td>\n",
       "      <td>0.0</td>\n",
       "      <td>0.0</td>\n",
       "      <td>0.000000</td>\n",
       "      <td>0.0</td>\n",
       "      <td>0.0</td>\n",
       "      <td>0.0</td>\n",
       "      <td>0.0</td>\n",
       "      <td>0.0</td>\n",
       "    </tr>\n",
       "    <tr>\n",
       "      <th>75</th>\n",
       "      <td>0.0</td>\n",
       "      <td>0.0</td>\n",
       "      <td>0.0</td>\n",
       "      <td>0.0</td>\n",
       "      <td>0.016287</td>\n",
       "      <td>0.0</td>\n",
       "      <td>0.000000</td>\n",
       "      <td>0.000000</td>\n",
       "      <td>0.169549</td>\n",
       "      <td>0.0</td>\n",
       "      <td>...</td>\n",
       "      <td>0.0</td>\n",
       "      <td>0.0</td>\n",
       "      <td>0.0</td>\n",
       "      <td>0.0</td>\n",
       "      <td>0.000000</td>\n",
       "      <td>0.0</td>\n",
       "      <td>0.0</td>\n",
       "      <td>0.0</td>\n",
       "      <td>0.0</td>\n",
       "      <td>0.0</td>\n",
       "    </tr>\n",
       "    <tr>\n",
       "      <th>76</th>\n",
       "      <td>0.0</td>\n",
       "      <td>0.0</td>\n",
       "      <td>0.0</td>\n",
       "      <td>0.0</td>\n",
       "      <td>0.000000</td>\n",
       "      <td>0.0</td>\n",
       "      <td>0.000000</td>\n",
       "      <td>0.000000</td>\n",
       "      <td>0.020512</td>\n",
       "      <td>0.0</td>\n",
       "      <td>...</td>\n",
       "      <td>0.0</td>\n",
       "      <td>0.0</td>\n",
       "      <td>0.0</td>\n",
       "      <td>0.0</td>\n",
       "      <td>0.000000</td>\n",
       "      <td>0.0</td>\n",
       "      <td>0.0</td>\n",
       "      <td>0.0</td>\n",
       "      <td>0.0</td>\n",
       "      <td>0.0</td>\n",
       "    </tr>\n",
       "    <tr>\n",
       "      <th>77</th>\n",
       "      <td>0.0</td>\n",
       "      <td>0.0</td>\n",
       "      <td>0.0</td>\n",
       "      <td>0.0</td>\n",
       "      <td>0.016128</td>\n",
       "      <td>0.0</td>\n",
       "      <td>0.000000</td>\n",
       "      <td>0.000000</td>\n",
       "      <td>0.047972</td>\n",
       "      <td>0.0</td>\n",
       "      <td>...</td>\n",
       "      <td>0.0</td>\n",
       "      <td>0.0</td>\n",
       "      <td>0.0</td>\n",
       "      <td>0.0</td>\n",
       "      <td>0.035463</td>\n",
       "      <td>0.0</td>\n",
       "      <td>0.0</td>\n",
       "      <td>0.0</td>\n",
       "      <td>0.0</td>\n",
       "      <td>0.0</td>\n",
       "    </tr>\n",
       "    <tr>\n",
       "      <th>78</th>\n",
       "      <td>0.0</td>\n",
       "      <td>0.0</td>\n",
       "      <td>0.0</td>\n",
       "      <td>0.0</td>\n",
       "      <td>0.024139</td>\n",
       "      <td>0.0</td>\n",
       "      <td>0.000000</td>\n",
       "      <td>0.000000</td>\n",
       "      <td>0.035899</td>\n",
       "      <td>0.0</td>\n",
       "      <td>...</td>\n",
       "      <td>0.0</td>\n",
       "      <td>0.0</td>\n",
       "      <td>0.0</td>\n",
       "      <td>0.0</td>\n",
       "      <td>0.000000</td>\n",
       "      <td>0.0</td>\n",
       "      <td>0.0</td>\n",
       "      <td>0.0</td>\n",
       "      <td>0.0</td>\n",
       "      <td>0.0</td>\n",
       "    </tr>\n",
       "  </tbody>\n",
       "</table>\n",
       "<p>79 rows × 4431 columns</p>\n",
       "</div>"
      ],
      "text/plain": [
       "     aa   ab  abdul  abilitiescommunication   ability  able  abovementioned  \\\n",
       "0   0.0  0.0    0.0                     0.0  0.000000   0.0        0.000000   \n",
       "1   0.0  0.0    0.0                     0.0  0.000000   0.0        0.029178   \n",
       "2   0.0  0.0    0.0                     0.0  0.000000   0.0        0.000000   \n",
       "3   0.0  0.0    0.0                     0.0  0.000000   0.0        0.000000   \n",
       "4   0.0  0.0    0.0                     0.0  0.021730   0.0        0.000000   \n",
       "..  ...  ...    ...                     ...       ...   ...             ...   \n",
       "74  0.0  0.0    0.0                     0.0  0.014787   0.0        0.000000   \n",
       "75  0.0  0.0    0.0                     0.0  0.016287   0.0        0.000000   \n",
       "76  0.0  0.0    0.0                     0.0  0.000000   0.0        0.000000   \n",
       "77  0.0  0.0    0.0                     0.0  0.016128   0.0        0.000000   \n",
       "78  0.0  0.0    0.0                     0.0  0.024139   0.0        0.000000   \n",
       "\n",
       "     abreast   absence  absent  ...  young  youre  yoursincerely   yr  \\\n",
       "0   0.000000  0.000000     0.0  ...    0.0    0.0            0.0  0.0   \n",
       "1   0.000000  0.000000     0.0  ...    0.0    0.0            0.0  0.0   \n",
       "2   0.039849  0.000000     0.0  ...    0.0    0.0            0.0  0.0   \n",
       "3   0.000000  0.000000     0.0  ...    0.0    0.0            0.0  0.0   \n",
       "4   0.000000  0.000000     0.0  ...    0.0    0.0            0.0  0.0   \n",
       "..       ...       ...     ...  ...    ...    ...            ...  ...   \n",
       "74  0.000000  0.043981     0.0  ...    0.0    0.0            0.0  0.0   \n",
       "75  0.000000  0.169549     0.0  ...    0.0    0.0            0.0  0.0   \n",
       "76  0.000000  0.020512     0.0  ...    0.0    0.0            0.0  0.0   \n",
       "77  0.000000  0.047972     0.0  ...    0.0    0.0            0.0  0.0   \n",
       "78  0.000000  0.035899     0.0  ...    0.0    0.0            0.0  0.0   \n",
       "\n",
       "     zealand  zenefits  zero  zerozilla  zone   zp  \n",
       "0   0.000000       0.0   0.0        0.0   0.0  0.0  \n",
       "1   0.000000       0.0   0.0        0.0   0.0  0.0  \n",
       "2   0.000000       0.0   0.0        0.0   0.0  0.0  \n",
       "3   0.000000       0.0   0.0        0.0   0.0  0.0  \n",
       "4   0.000000       0.0   0.0        0.0   0.0  0.0  \n",
       "..       ...       ...   ...        ...   ...  ...  \n",
       "74  0.000000       0.0   0.0        0.0   0.0  0.0  \n",
       "75  0.000000       0.0   0.0        0.0   0.0  0.0  \n",
       "76  0.000000       0.0   0.0        0.0   0.0  0.0  \n",
       "77  0.035463       0.0   0.0        0.0   0.0  0.0  \n",
       "78  0.000000       0.0   0.0        0.0   0.0  0.0  \n",
       "\n",
       "[79 rows x 4431 columns]"
      ]
     },
     "execution_count": 6,
     "metadata": {},
     "output_type": "execute_result"
    }
   ],
   "source": [
    "#Features\n",
    "X"
   ]
  },
  {
   "cell_type": "code",
   "execution_count": 7,
   "id": "43e5154e",
   "metadata": {
    "colab": {
     "base_uri": "https://localhost:8080/"
    },
    "id": "43e5154e",
    "outputId": "e505b8b5-8964-46d3-a2be-90e0aa36e3e7"
   },
   "outputs": [
    {
     "data": {
      "text/plain": [
       "0     0\n",
       "1     0\n",
       "2     0\n",
       "3     0\n",
       "4     0\n",
       "     ..\n",
       "74    3\n",
       "75    3\n",
       "76    3\n",
       "77    3\n",
       "78    3\n",
       "Name: Category, Length: 79, dtype: int64"
      ]
     },
     "execution_count": 7,
     "metadata": {},
     "output_type": "execute_result"
    }
   ],
   "source": [
    "#Target Column\n",
    "# Category is Target Column\n",
    "Y=resume_data['Category']\n",
    "Y"
   ]
  },
  {
   "cell_type": "markdown",
   "id": "e68102f1",
   "metadata": {
    "id": "e68102f1"
   },
   "source": [
    "# Split Train/Text data"
   ]
  },
  {
   "cell_type": "code",
   "execution_count": 8,
   "id": "b76be093",
   "metadata": {
    "colab": {
     "base_uri": "https://localhost:8080/"
    },
    "id": "b76be093",
    "outputId": "1d1a38a7-4cb5-485e-ed5f-93746cb63310"
   },
   "outputs": [
    {
     "data": {
      "text/plain": [
       "((59, 4431), (20, 4431))"
      ]
     },
     "execution_count": 8,
     "metadata": {},
     "output_type": "execute_result"
    }
   ],
   "source": [
    "#We are going to randomly split the data into Train and Text\n",
    "\n",
    "X_train, X_test, Y_train, Y_test = train_test_split(X, Y, random_state=5, test_size=0.25,stratify=resume_data.Category.values)\n",
    "X_train.shape, X_test.shape"
   ]
  },
  {
   "cell_type": "markdown",
   "id": "8e09bd76",
   "metadata": {
    "id": "8e09bd76"
   },
   "source": [
    "# Classification Model"
   ]
  },
  {
   "cell_type": "markdown",
   "id": "9c9ae579",
   "metadata": {
    "id": "9c9ae579"
   },
   "source": [
    "## 1. Logistics Regression"
   ]
  },
  {
   "cell_type": "code",
   "execution_count": 11,
   "id": "0fac75ea",
   "metadata": {
    "colab": {
     "base_uri": "https://localhost:8080/",
     "height": 75
    },
    "id": "0fac75ea",
    "outputId": "1d797e5c-e910-45a4-f004-1e4bcc2d5d64"
   },
   "outputs": [
    {
     "data": {
      "text/plain": [
       "LogisticRegression()"
      ]
     },
     "execution_count": 11,
     "metadata": {},
     "output_type": "execute_result"
    }
   ],
   "source": [
    "#Build model\n",
    "model_LR=LogisticRegression()\n",
    "model_LR.fit(X_train,Y_train)"
   ]
  },
  {
   "cell_type": "code",
   "execution_count": 12,
   "id": "bd8eb351",
   "metadata": {
    "colab": {
     "base_uri": "https://localhost:8080/"
    },
    "id": "bd8eb351",
    "outputId": "22ee1f1a-fbf3-4ccf-ed53-703df79623d5"
   },
   "outputs": [
    {
     "data": {
      "text/plain": [
       "array([[ 0.00395717, -0.00371281, -0.01950566, ..., -0.01581305,\n",
       "         0.01877489,  0.03468097],\n",
       "       [-0.00147251, -0.00434278,  0.05074022, ...,  0.04387792,\n",
       "        -0.0079839 ,  0.0005098 ],\n",
       "       [-0.00132321, -0.00341695, -0.01660481, ..., -0.01472386,\n",
       "        -0.00538672, -0.01845096],\n",
       "       [-0.00116145,  0.01147255, -0.01462975, ..., -0.013341  ,\n",
       "        -0.00540426, -0.01673981]])"
      ]
     },
     "execution_count": 12,
     "metadata": {},
     "output_type": "execute_result"
    }
   ],
   "source": [
    "# Model Co-efficient\n",
    "model_LR.coef_"
   ]
  },
  {
   "cell_type": "code",
   "execution_count": 13,
   "id": "f4c7d352",
   "metadata": {
    "colab": {
     "base_uri": "https://localhost:8080/"
    },
    "id": "f4c7d352",
    "outputId": "a3fb9314-1376-47b0-a219-9d97b02f1a31"
   },
   "outputs": [
    {
     "data": {
      "text/plain": [
       "array([-0.01038023,  0.58435196, -0.18925473, -0.384717  ])"
      ]
     },
     "execution_count": 13,
     "metadata": {},
     "output_type": "execute_result"
    }
   ],
   "source": [
    "#Model intercept\n",
    "model_LR.intercept_"
   ]
  },
  {
   "cell_type": "code",
   "execution_count": 14,
   "id": "34b7f95a",
   "metadata": {
    "colab": {
     "base_uri": "https://localhost:8080/"
    },
    "id": "34b7f95a",
    "outputId": "40b47b13-0e52-4116-b369-af69b0afbe35"
   },
   "outputs": [
    {
     "data": {
      "text/plain": [
       "array([3, 3, 2, 1, 0, 2, 0, 2, 0, 0, 1, 0, 3, 3, 1, 1, 3, 2, 1, 1],\n",
       "      dtype=int64)"
      ]
     },
     "execution_count": 14,
     "metadata": {},
     "output_type": "execute_result"
    }
   ],
   "source": [
    "#Predicting values from model\n",
    "Y_pred=model_LR.predict(X_test)\n",
    "Y_pred"
   ]
  },
  {
   "cell_type": "code",
   "execution_count": 15,
   "id": "8f0f3cc0",
   "metadata": {
    "colab": {
     "base_uri": "https://localhost:8080/"
    },
    "id": "8f0f3cc0",
    "outputId": "4a7d89db-7ec8-40f2-dc52-5470b3b0410c"
   },
   "outputs": [
    {
     "name": "stdout",
     "output_type": "stream",
     "text": [
      "              precision    recall  f1-score   support\n",
      "\n",
      "           0       1.00      1.00      1.00         5\n",
      "           1       1.00      1.00      1.00         6\n",
      "           2       1.00      1.00      1.00         4\n",
      "           3       1.00      1.00      1.00         5\n",
      "\n",
      "    accuracy                           1.00        20\n",
      "   macro avg       1.00      1.00      1.00        20\n",
      "weighted avg       1.00      1.00      1.00        20\n",
      "\n"
     ]
    }
   ],
   "source": [
    "#Classification Report\n",
    "print(classification_report(Y_test,Y_pred))"
   ]
  },
  {
   "cell_type": "code",
   "execution_count": 16,
   "id": "df251b37",
   "metadata": {
    "colab": {
     "base_uri": "https://localhost:8080/"
    },
    "id": "df251b37",
    "outputId": "309c1c82-1be3-4ccc-df24-63ca406104b1"
   },
   "outputs": [
    {
     "data": {
      "text/plain": [
       "array([[5, 0, 0, 0],\n",
       "       [0, 6, 0, 0],\n",
       "       [0, 0, 4, 0],\n",
       "       [0, 0, 0, 5]], dtype=int64)"
      ]
     },
     "execution_count": 16,
     "metadata": {},
     "output_type": "execute_result"
    }
   ],
   "source": [
    "#Confusion Matrix\n",
    "from sklearn.metrics import confusion_matrix\n",
    "confusion_matrix(Y_test,Y_pred)"
   ]
  },
  {
   "cell_type": "code",
   "execution_count": 17,
   "id": "1d74eeb8",
   "metadata": {
    "colab": {
     "base_uri": "https://localhost:8080/"
    },
    "id": "1d74eeb8",
    "outputId": "c7b3e67d-3c1c-4343-8700-e5bd15dac548"
   },
   "outputs": [
    {
     "data": {
      "text/plain": [
       "1.0"
      ]
     },
     "execution_count": 17,
     "metadata": {},
     "output_type": "execute_result"
    }
   ],
   "source": [
    "#Model Accuracy\n",
    "ACC_LR=metrics.accuracy_score(Y_pred,Y_test)\n",
    "ACC_LR"
   ]
  },
  {
   "cell_type": "code",
   "execution_count": 18,
   "id": "25b8a756",
   "metadata": {
    "id": "25b8a756"
   },
   "outputs": [],
   "source": [
    "# DataFrame to compare models\n",
    "results = pd.DataFrame({'Models':['Logistics Regression'],'Accuracy':[ACC_LR]})"
   ]
  },
  {
   "cell_type": "markdown",
   "id": "a7VykKF7UmQE",
   "metadata": {
    "id": "a7VykKF7UmQE"
   },
   "source": [
    "## 2. Naive Bayes Algorithm"
   ]
  },
  {
   "cell_type": "code",
   "execution_count": 19,
   "id": "LNugvwkqUs1F",
   "metadata": {
    "colab": {
     "base_uri": "https://localhost:8080/",
     "height": 75
    },
    "id": "LNugvwkqUs1F",
    "outputId": "766b2ec1-8a9b-4c92-e660-cfe86ee29e5c"
   },
   "outputs": [
    {
     "data": {
      "text/plain": [
       "MultinomialNB(alpha=1, fit_prior=False)"
      ]
     },
     "execution_count": 19,
     "metadata": {},
     "output_type": "execute_result"
    }
   ],
   "source": [
    "#Multinomial Naive Bayes Model\n",
    "model_NB =MultinomialNB(alpha=1, fit_prior=False, class_prior=None)\n",
    "model_NB.fit(X_train, Y_train)"
   ]
  },
  {
   "cell_type": "code",
   "execution_count": 20,
   "id": "K-5vWJBgVxry",
   "metadata": {
    "colab": {
     "base_uri": "https://localhost:8080/"
    },
    "id": "K-5vWJBgVxry",
    "outputId": "406366b7-73cf-4ba0-86e2-49b0da703df2"
   },
   "outputs": [
    {
     "data": {
      "text/plain": [
       "array([3, 3, 2, 1, 0, 2, 0, 2, 0, 0, 1, 0, 3, 3, 1, 1, 3, 2, 1, 1],\n",
       "      dtype=int64)"
      ]
     },
     "execution_count": 20,
     "metadata": {},
     "output_type": "execute_result"
    }
   ],
   "source": [
    "#Predicting on test data\n",
    "Y_pred = model_NB.predict(X_test) # predicting on test data set\n",
    "Y_pred"
   ]
  },
  {
   "cell_type": "code",
   "execution_count": 21,
   "id": "tXOzax_cVy_1",
   "metadata": {
    "colab": {
     "base_uri": "https://localhost:8080/"
    },
    "id": "tXOzax_cVy_1",
    "outputId": "c81a59bc-deee-4371-d26f-586b4676bf2f"
   },
   "outputs": [
    {
     "name": "stdout",
     "output_type": "stream",
     "text": [
      "1.0\n"
     ]
    }
   ],
   "source": [
    "#Accuracy of the model\n",
    "acc_NB=metrics.accuracy_score(Y_pred,Y_test)\n",
    "print(acc_NB)"
   ]
  },
  {
   "cell_type": "code",
   "execution_count": 22,
   "id": "e2ZHj_vSV_fW",
   "metadata": {
    "colab": {
     "base_uri": "https://localhost:8080/"
    },
    "id": "e2ZHj_vSV_fW",
    "outputId": "7509c992-8f33-4c87-95f1-91be516f3cac"
   },
   "outputs": [
    {
     "name": "stdout",
     "output_type": "stream",
     "text": [
      "              precision    recall  f1-score   support\n",
      "\n",
      "           0       1.00      1.00      1.00         5\n",
      "           1       1.00      1.00      1.00         6\n",
      "           2       1.00      1.00      1.00         4\n",
      "           3       1.00      1.00      1.00         5\n",
      "\n",
      "    accuracy                           1.00        20\n",
      "   macro avg       1.00      1.00      1.00        20\n",
      "weighted avg       1.00      1.00      1.00        20\n",
      "\n"
     ]
    }
   ],
   "source": [
    "#Classification Report\n",
    "print(classification_report(Y_test,Y_pred))"
   ]
  },
  {
   "cell_type": "code",
   "execution_count": 23,
   "id": "68bc4764",
   "metadata": {
    "id": "68bc4764"
   },
   "outputs": [],
   "source": [
    "#Adding to DataFrame to compare models\n",
    "results=results.append({'Models':'Naive Bayes','Accuracy':acc_NB }, ignore_index=True)"
   ]
  },
  {
   "cell_type": "markdown",
   "id": "lOwePkYTWZ6I",
   "metadata": {
    "id": "lOwePkYTWZ6I"
   },
   "source": [
    "## 3. K-Nearest Neighbors Classification"
   ]
  },
  {
   "cell_type": "code",
   "execution_count": 24,
   "id": "VmqHyk_OYLrT",
   "metadata": {
    "colab": {
     "base_uri": "https://localhost:8080/",
     "height": 449
    },
    "id": "VmqHyk_OYLrT",
    "outputId": "64322e33-1de6-4b07-8e81-0aafe963a653"
   },
   "outputs": [
    {
     "data": {
      "image/png": "[encoded data removed]",
      "text/plain": [
       "<Figure size 640x480 with 1 Axes>"
      ]
     },
     "metadata": {},
     "output_type": "display_data"
    }
   ],
   "source": [
    "# First we will find the best value for k\n",
    "# choose k between 1 to 41\n",
    "k_range = [2*i+1 for i in range(0,20)]\n",
    "k_scores = []\n",
    "# use iteration to caclulate different k in models, then return the average accuracy based on the cross validation\n",
    "for k in k_range:\n",
    "    knn = KNeighborsClassifier(n_neighbors=k)\n",
    "    scores = cross_val_score(knn, X_train, Y_train, cv=10)\n",
    "    k_scores.append(scores.mean())\n",
    "# plot to see clearly\n",
    "plt.bar(k_range, k_scores)\n",
    "plt.plot(k_range, k_scores,color=\"red\")\n",
    "\n",
    "plt.xlabel('Value of K for KNN')\n",
    "plt.ylabel('Cross-Validated Accuracy')\n",
    "plt.xticks(k_range)\n",
    "plt.show()"
   ]
  },
  {
   "cell_type": "markdown",
   "id": "sFVVXBzQZHuA",
   "metadata": {
    "id": "sFVVXBzQZHuA"
   },
   "source": [
    "Observation: As we can see Accuracy is same for k value between 1 to 19.\n",
    "We can take any value between 1 to 19."
   ]
  },
  {
   "cell_type": "code",
   "execution_count": 25,
   "id": "HIjGdOwzWZ6K",
   "metadata": {
    "colab": {
     "base_uri": "https://localhost:8080/",
     "height": 75
    },
    "id": "HIjGdOwzWZ6K",
    "outputId": "c78c73a2-12f2-4cd7-f9bf-837e5c1cd0dd"
   },
   "outputs": [
    {
     "data": {
      "text/plain": [
       "KNeighborsClassifier(n_neighbors=19)"
      ]
     },
     "execution_count": 25,
     "metadata": {},
     "output_type": "execute_result"
    }
   ],
   "source": [
    "#K-Nearest neighbors model\n",
    "model_knn = KNeighborsClassifier(n_neighbors=19)\n",
    "model_knn.fit(X_train, Y_train)"
   ]
  },
  {
   "cell_type": "code",
   "execution_count": 26,
   "id": "j4TPK26IWZ6M",
   "metadata": {
    "colab": {
     "base_uri": "https://localhost:8080/"
    },
    "id": "j4TPK26IWZ6M",
    "outputId": "57353ff3-37ef-4887-a6ce-2f4b75720b1e"
   },
   "outputs": [
    {
     "data": {
      "text/plain": [
       "array([3, 3, 2, 1, 0, 2, 0, 2, 0, 0, 1, 0, 3, 3, 1, 1, 3, 2, 1, 1],\n",
       "      dtype=int64)"
      ]
     },
     "execution_count": 26,
     "metadata": {},
     "output_type": "execute_result"
    }
   ],
   "source": [
    "#Predicting on test data\n",
    "Y_pred = model_knn.predict(X_test) # predicting on test data set\n",
    "Y_pred"
   ]
  },
  {
   "cell_type": "code",
   "execution_count": 27,
   "id": "g-EBzQwGWZ6N",
   "metadata": {
    "colab": {
     "base_uri": "https://localhost:8080/"
    },
    "id": "g-EBzQwGWZ6N",
    "outputId": "38c6fd4c-6dd3-4b09-ae79-99b7687e40e5"
   },
   "outputs": [
    {
     "name": "stdout",
     "output_type": "stream",
     "text": [
      "1.0\n"
     ]
    }
   ],
   "source": [
    "#Accuracy of the model\n",
    "acc_knn=metrics.accuracy_score(Y_pred,Y_test)\n",
    "print(acc_knn)"
   ]
  },
  {
   "cell_type": "code",
   "execution_count": 28,
   "id": "1BnosGKiWZ6O",
   "metadata": {
    "colab": {
     "base_uri": "https://localhost:8080/"
    },
    "id": "1BnosGKiWZ6O",
    "outputId": "d2727504-6c96-4d4a-ef35-1abfd908c8c6"
   },
   "outputs": [
    {
     "name": "stdout",
     "output_type": "stream",
     "text": [
      "              precision    recall  f1-score   support\n",
      "\n",
      "           0       1.00      1.00      1.00         5\n",
      "           1       1.00      1.00      1.00         6\n",
      "           2       1.00      1.00      1.00         4\n",
      "           3       1.00      1.00      1.00         5\n",
      "\n",
      "    accuracy                           1.00        20\n",
      "   macro avg       1.00      1.00      1.00        20\n",
      "weighted avg       1.00      1.00      1.00        20\n",
      "\n"
     ]
    }
   ],
   "source": [
    "#Classification Report\n",
    "print(classification_report(Y_test,Y_pred))"
   ]
  },
  {
   "cell_type": "code",
   "execution_count": 29,
   "id": "03aff0ce",
   "metadata": {
    "id": "03aff0ce"
   },
   "outputs": [],
   "source": [
    "#Adding to DataFrame to compare models\n",
    "results=results.append({'Models':'KNN','Accuracy':acc_knn }, ignore_index=True)"
   ]
  },
  {
   "cell_type": "markdown",
   "id": "cb002225",
   "metadata": {
    "id": "cb002225"
   },
   "source": [
    "## 4. Support Vector Machine"
   ]
  },
  {
   "cell_type": "code",
   "execution_count": 30,
   "id": "37589756",
   "metadata": {
    "colab": {
     "base_uri": "https://localhost:8080/",
     "height": 119
    },
    "id": "37589756",
    "outputId": "b7b5b981-d9d5-45c7-9cd3-d4f18efd76b5"
   },
   "outputs": [
    {
     "data": {
      "text/plain": [
       "RandomizedSearchCV(cv=10, estimator=SVC(),\n",
       "                   param_distributions=[{'C': [1, 15, 14, 13, 12, 11, 10, 0.1],\n",
       "                                         'gamma': [50, 5, 10, 0.5, 1, 0.001,\n",
       "                                                   0.0001, 1e-05],\n",
       "                                         'kernel': ['linear', 'poly', 'sigmoid',\n",
       "                                                    'rbf']}])"
      ]
     },
     "execution_count": 30,
     "metadata": {},
     "output_type": "execute_result"
    }
   ],
   "source": [
    "#Hyper Parameter tuning\n",
    "#To get the optimum value of hyper parameters gamma and C\n",
    "\n",
    "classifier =SVC()\n",
    "param_grid = [{'kernel':['linear', 'poly','sigmoid', 'rbf'],\n",
    "               'gamma':[50,5,10,0.5,1,0.001,0.0001,0.00001],\n",
    "               'C':[1,15,14,13,12,11,10,0.1] }]\n",
    "# C is a regularization hyper parameter , by changing C value we can address overfitting and underfitting\n",
    "rand_search = RandomizedSearchCV(classifier,param_grid,cv=10)\n",
    "rand_search.fit(X_train,Y_train)"
   ]
  },
  {
   "cell_type": "code",
   "execution_count": 31,
   "id": "4639e8af",
   "metadata": {
    "colab": {
     "base_uri": "https://localhost:8080/"
    },
    "id": "4639e8af",
    "outputId": "0a8123d6-2639-4ca8-8e3f-5ad99af12261"
   },
   "outputs": [
    {
     "data": {
      "text/plain": [
       "({'kernel': 'linear', 'gamma': 0.001, 'C': 14}, 0.9666666666666668)"
      ]
     },
     "execution_count": 31,
     "metadata": {},
     "output_type": "execute_result"
    }
   ],
   "source": [
    "#Value of optimized parameters\n",
    "rand_search.best_params_ , rand_search.best_score_"
   ]
  },
  {
   "cell_type": "code",
   "execution_count": 32,
   "id": "33c13861",
   "metadata": {
    "colab": {
     "base_uri": "https://localhost:8080/",
     "height": 75
    },
    "id": "33c13861",
    "outputId": "e3152da8-cf0d-47ca-92e8-78ad87d80365"
   },
   "outputs": [
    {
     "data": {
      "text/plain": [
       "SVC(C=14, gamma=0.001, kernel='linear')"
      ]
     },
     "execution_count": 32,
     "metadata": {},
     "output_type": "execute_result"
    }
   ],
   "source": [
    "#Building SVM Model with optimized parameters\n",
    "model_SVM = SVC(C= rand_search.best_params_['C'],\n",
    "                gamma = rand_search.best_params_['gamma'],\n",
    "                kernel=rand_search.best_params_['kernel'])\n",
    "model_SVM.fit(X_train , Y_train)"
   ]
  },
  {
   "cell_type": "code",
   "execution_count": 33,
   "id": "951aecd0",
   "metadata": {
    "colab": {
     "base_uri": "https://localhost:8080/"
    },
    "id": "951aecd0",
    "outputId": "37f079dd-adc5-4671-d446-ca160775c016"
   },
   "outputs": [
    {
     "data": {
      "text/plain": [
       "array([3, 3, 2, 1, 0, 2, 0, 2, 0, 0, 1, 0, 3, 3, 1, 1, 3, 2, 1, 1],\n",
       "      dtype=int64)"
      ]
     },
     "execution_count": 33,
     "metadata": {},
     "output_type": "execute_result"
    }
   ],
   "source": [
    "#Predicting on test data\n",
    "Y_pred = model_SVM.predict(X_test) # predicting on test data set\n",
    "Y_pred"
   ]
  },
  {
   "cell_type": "code",
   "execution_count": 34,
   "id": "2b4bf346",
   "metadata": {
    "colab": {
     "base_uri": "https://localhost:8080/"
    },
    "id": "2b4bf346",
    "outputId": "efa9a08e-787d-48b6-912f-1fdcc493f319"
   },
   "outputs": [
    {
     "name": "stdout",
     "output_type": "stream",
     "text": [
      "1.0\n"
     ]
    }
   ],
   "source": [
    "#Accuracy of the model\n",
    "acc_SVM=metrics.accuracy_score(Y_pred,Y_test)\n",
    "print(acc_SVM)"
   ]
  },
  {
   "cell_type": "code",
   "execution_count": 35,
   "id": "9f2f83be",
   "metadata": {
    "colab": {
     "base_uri": "https://localhost:8080/"
    },
    "id": "9f2f83be",
    "outputId": "46748d7d-d636-4cc2-b459-865c0e181c11"
   },
   "outputs": [
    {
     "name": "stdout",
     "output_type": "stream",
     "text": [
      "              precision    recall  f1-score   support\n",
      "\n",
      "           0       1.00      1.00      1.00         5\n",
      "           1       1.00      1.00      1.00         6\n",
      "           2       1.00      1.00      1.00         4\n",
      "           3       1.00      1.00      1.00         5\n",
      "\n",
      "    accuracy                           1.00        20\n",
      "   macro avg       1.00      1.00      1.00        20\n",
      "weighted avg       1.00      1.00      1.00        20\n",
      "\n"
     ]
    }
   ],
   "source": [
    "#Classification Report\n",
    "print(classification_report(Y_test,Y_pred))"
   ]
  },
  {
   "cell_type": "code",
   "execution_count": 36,
   "id": "e380529f",
   "metadata": {
    "id": "e380529f"
   },
   "outputs": [],
   "source": [
    "#Adding to DataFrame to compare models\n",
    "results=results.append({'Models':'SVM','Accuracy':acc_SVM }, ignore_index=True)"
   ]
  },
  {
   "cell_type": "markdown",
   "id": "OXNNEiqzbL33",
   "metadata": {
    "id": "OXNNEiqzbL33"
   },
   "source": [
    "## 5. Decision Tree"
   ]
  },
  {
   "cell_type": "code",
   "execution_count": 37,
   "id": "E0WgnIPEbL37",
   "metadata": {
    "colab": {
     "base_uri": "https://localhost:8080/",
     "height": 119
    },
    "id": "E0WgnIPEbL37",
    "outputId": "528df183-6111-449b-abbd-ff70ee84fe1a"
   },
   "outputs": [
    {
     "data": {
      "text/plain": [
       "RandomizedSearchCV(cv=5, estimator=DecisionTreeClassifier(),\n",
       "                   param_distributions=[{'criterion': ['gini', 'entropy'],\n",
       "                                         'max_depth': <scipy.stats._distn_infrastructure.rv_discrete_frozen object at 0x0000022FCA4B7070>,\n",
       "                                         'min_samples_split': <scipy.stats._distn_infrastructure.rv_discrete_frozen object at 0x0000022FCA66FC10>}])"
      ]
     },
     "execution_count": 37,
     "metadata": {},
     "output_type": "execute_result"
    }
   ],
   "source": [
    "#Hyper Parameter tuning\n",
    "clf = DecisionTreeClassifier()\n",
    "param_grid = [{'criterion':['gini', 'entropy'],'min_samples_split':randint(1,5),'max_depth': randint(1,10) }]\n",
    "rand_search = RandomizedSearchCV(clf,param_grid,cv=5,n_iter=10)\n",
    "rand_search.fit(X_train,Y_train)"
   ]
  },
  {
   "cell_type": "code",
   "execution_count": 38,
   "id": "oA8JHJzxbL39",
   "metadata": {
    "colab": {
     "base_uri": "https://localhost:8080/"
    },
    "id": "oA8JHJzxbL39",
    "outputId": "d39f6466-db2c-494f-f301-04ecea697924"
   },
   "outputs": [
    {
     "data": {
      "text/plain": [
       "({'criterion': 'gini', 'max_depth': 4, 'min_samples_split': 4},\n",
       " 0.9484848484848485)"
      ]
     },
     "execution_count": 38,
     "metadata": {},
     "output_type": "execute_result"
    }
   ],
   "source": [
    "#Value of optimized parameters\n",
    "rand_search.best_params_ , rand_search.best_score_"
   ]
  },
  {
   "cell_type": "code",
   "execution_count": 39,
   "id": "fXP_gqbXbL3-",
   "metadata": {
    "colab": {
     "base_uri": "https://localhost:8080/",
     "height": 75
    },
    "id": "fXP_gqbXbL3-",
    "outputId": "659b116f-8558-4535-a946-b7459f3371c3"
   },
   "outputs": [
    {
     "data": {
      "text/plain": [
       "DecisionTreeClassifier(max_depth=4, min_samples_split=4)"
      ]
     },
     "execution_count": 39,
     "metadata": {},
     "output_type": "execute_result"
    }
   ],
   "source": [
    "#Building Random Forest Model with optimized parameters\n",
    "model_DT=DecisionTreeClassifier(min_samples_split=rand_search.best_params_['min_samples_split'],\n",
    "                                 criterion=rand_search.best_params_['criterion'],\n",
    "                                 max_depth=rand_search.best_params_['max_depth'])\n",
    "model_DT.fit(X_train,Y_train)"
   ]
  },
  {
   "cell_type": "code",
   "execution_count": 40,
   "id": "iO8nbjPKbL3_",
   "metadata": {
    "colab": {
     "base_uri": "https://localhost:8080/",
     "height": 70
    },
    "id": "iO8nbjPKbL3_",
    "outputId": "119b889d-fcb3-4735-ba0b-4683dde5d51e"
   },
   "outputs": [
    {
     "data": {
      "text/plain": [
       "'\\nfor i in range(3):\\n    tree = model_RFG.estimators_[i]\\n    dot_data = export_graphviz(tree,\\n                               feature_names=X_train.columns,\\n                               filled=True,\\n                               max_depth=2,\\n                               impurity=False,\\n                               proportion=True)\\n    graph = graphviz.Source(dot_data)\\n    display(graph)'"
      ]
     },
     "execution_count": 40,
     "metadata": {},
     "output_type": "execute_result"
    }
   ],
   "source": [
    "# Visualization the first three decision trees from the forest\n",
    "'''\n",
    "for i in range(3):\n",
    "    tree = model_RFG.estimators_[i]\n",
    "    dot_data = export_graphviz(tree,\n",
    "                               feature_names=X_train.columns,\n",
    "                               filled=True,\n",
    "                               max_depth=2,\n",
    "                               impurity=False,\n",
    "                               proportion=True)\n",
    "    graph = graphviz.Source(dot_data)\n",
    "    display(graph)'''"
   ]
  },
  {
   "cell_type": "code",
   "execution_count": 41,
   "id": "58VS4pWXbL4A",
   "metadata": {
    "colab": {
     "base_uri": "https://localhost:8080/"
    },
    "id": "58VS4pWXbL4A",
    "outputId": "58451ab1-355e-43be-eacc-8d8f9f91cb8f"
   },
   "outputs": [
    {
     "data": {
      "text/plain": [
       "array([3, 3, 2, 1, 0, 2, 0, 2, 0, 0, 1, 0, 3, 3, 1, 1, 3, 2, 1, 1],\n",
       "      dtype=int64)"
      ]
     },
     "execution_count": 41,
     "metadata": {},
     "output_type": "execute_result"
    }
   ],
   "source": [
    "#Predicting on test data\n",
    "Y_pred = model_DT.predict(X_test) # predicting on test data set\n",
    "Y_pred"
   ]
  },
  {
   "cell_type": "code",
   "execution_count": 42,
   "id": "v2EqPw83bL4B",
   "metadata": {
    "colab": {
     "base_uri": "https://localhost:8080/"
    },
    "id": "v2EqPw83bL4B",
    "outputId": "1447d8d6-79a0-45c2-cf6f-8638f12aebce"
   },
   "outputs": [
    {
     "name": "stdout",
     "output_type": "stream",
     "text": [
      "1.0\n"
     ]
    }
   ],
   "source": [
    "#Accuracy of the model\n",
    "acc_DT=metrics.accuracy_score(Y_pred,Y_test)\n",
    "print(acc_DT)"
   ]
  },
  {
   "cell_type": "code",
   "execution_count": 43,
   "id": "Ky4kWPsNbL4C",
   "metadata": {
    "colab": {
     "base_uri": "https://localhost:8080/"
    },
    "id": "Ky4kWPsNbL4C",
    "outputId": "3f496f51-3288-4156-b991-7a5b3535ba22"
   },
   "outputs": [
    {
     "name": "stdout",
     "output_type": "stream",
     "text": [
      "              precision    recall  f1-score   support\n",
      "\n",
      "           0       1.00      1.00      1.00         5\n",
      "           1       1.00      1.00      1.00         6\n",
      "           2       1.00      1.00      1.00         4\n",
      "           3       1.00      1.00      1.00         5\n",
      "\n",
      "    accuracy                           1.00        20\n",
      "   macro avg       1.00      1.00      1.00        20\n",
      "weighted avg       1.00      1.00      1.00        20\n",
      "\n"
     ]
    }
   ],
   "source": [
    "#Classification Report\n",
    "print(classification_report(Y_test,Y_pred))"
   ]
  },
  {
   "cell_type": "code",
   "execution_count": 44,
   "id": "9bf1d8ef",
   "metadata": {
    "id": "9bf1d8ef"
   },
   "outputs": [],
   "source": [
    "#Adding to DataFrame to compare models\n",
    "results=results.append({'Models':'Decision Tree','Accuracy':acc_DT }, ignore_index=True)"
   ]
  },
  {
   "cell_type": "markdown",
   "id": "hvBq--KYrKQa",
   "metadata": {
    "id": "hvBq--KYrKQa"
   },
   "source": [
    "## 6. Random Forest"
   ]
  },
  {
   "cell_type": "code",
   "execution_count": 45,
   "id": "41135cd5",
   "metadata": {
    "colab": {
     "base_uri": "https://localhost:8080/",
     "height": 119
    },
    "id": "41135cd5",
    "outputId": "579fbd99-e961-4c86-f59c-8d05e6af535c"
   },
   "outputs": [
    {
     "data": {
      "text/plain": [
       "RandomizedSearchCV(cv=5, estimator=RandomForestClassifier(),\n",
       "                   param_distributions=[{'criterion': ['gini', 'entropy'],\n",
       "                                         'max_depth': <scipy.stats._distn_infrastructure.rv_discrete_frozen object at 0x0000022FB29AD8B0>,\n",
       "                                         'n_estimators': <scipy.stats._distn_infrastructure.rv_discrete_frozen object at 0x0000022FCA4CAE80>}])"
      ]
     },
     "execution_count": 45,
     "metadata": {},
     "output_type": "execute_result"
    }
   ],
   "source": [
    "#Hyper Parameter tuning\n",
    "clf = RandomForestClassifier()\n",
    "param_grid = [{'criterion':['gini', 'entropy'],'n_estimators':randint(10,200),'max_depth': randint(1,10) }]\n",
    "rand_search = RandomizedSearchCV(clf,param_grid,cv=5,n_iter=10)\n",
    "rand_search.fit(X_train,Y_train)"
   ]
  },
  {
   "cell_type": "code",
   "execution_count": 46,
   "id": "87310d30",
   "metadata": {
    "colab": {
     "base_uri": "https://localhost:8080/"
    },
    "id": "87310d30",
    "outputId": "08c2f7f2-44ff-497b-9635-057a77c13c30"
   },
   "outputs": [
    {
     "data": {
      "text/plain": [
       "({'criterion': 'entropy', 'max_depth': 7, 'n_estimators': 30},\n",
       " 0.9636363636363636)"
      ]
     },
     "execution_count": 46,
     "metadata": {},
     "output_type": "execute_result"
    }
   ],
   "source": [
    "#Value of optimized parameters\n",
    "rand_search.best_params_ , rand_search.best_score_"
   ]
  },
  {
   "cell_type": "code",
   "execution_count": 47,
   "id": "356871d7",
   "metadata": {
    "colab": {
     "base_uri": "https://localhost:8080/",
     "height": 75
    },
    "id": "356871d7",
    "outputId": "fa2e86f2-6e7e-4b45-d13a-b947719b1def"
   },
   "outputs": [
    {
     "data": {
      "text/plain": [
       "RandomForestClassifier(criterion='entropy', max_depth=7, n_estimators=30)"
      ]
     },
     "execution_count": 47,
     "metadata": {},
     "output_type": "execute_result"
    }
   ],
   "source": [
    "#Building Random Forest Model with optimized parameters\n",
    "model_RFG=RandomForestClassifier(n_estimators=rand_search.best_params_['n_estimators'],\n",
    "                                 criterion=rand_search.best_params_['criterion'],\n",
    "                                 max_depth=rand_search.best_params_['max_depth'])\n",
    "model_RFG.fit(X_train,Y_train)"
   ]
  },
  {
   "cell_type": "code",
   "execution_count": 48,
   "id": "5cXnl4kfuEaa",
   "metadata": {
    "colab": {
     "base_uri": "https://localhost:8080/",
     "height": 70
    },
    "id": "5cXnl4kfuEaa",
    "outputId": "179d1def-4b3b-45cd-8279-dd0bcc1613f4"
   },
   "outputs": [
    {
     "data": {
      "text/plain": [
       "'\\nfor i in range(3):\\n    tree = model_RFG.estimators_[i]\\n    dot_data = export_graphviz(tree,\\n                               feature_names=X_train.columns,\\n                               filled=True,\\n                               max_depth=2,\\n                               impurity=False,\\n                               proportion=True)\\n    graph = graphviz.Source(dot_data)\\n    display(graph)'"
      ]
     },
     "execution_count": 48,
     "metadata": {},
     "output_type": "execute_result"
    }
   ],
   "source": [
    "# Visualization the first three decision trees from the forest\n",
    "'''\n",
    "for i in range(3):\n",
    "    tree = model_RFG.estimators_[i]\n",
    "    dot_data = export_graphviz(tree,\n",
    "                               feature_names=X_train.columns,\n",
    "                               filled=True,\n",
    "                               max_depth=2,\n",
    "                               impurity=False,\n",
    "                               proportion=True)\n",
    "    graph = graphviz.Source(dot_data)\n",
    "    display(graph)'''"
   ]
  },
  {
   "cell_type": "code",
   "execution_count": 49,
   "id": "VY2L9cotxblA",
   "metadata": {
    "colab": {
     "base_uri": "https://localhost:8080/"
    },
    "id": "VY2L9cotxblA",
    "outputId": "fca2b62e-5bc5-4665-c6ad-1f50c9314256"
   },
   "outputs": [
    {
     "data": {
      "text/plain": [
       "array([3, 3, 2, 1, 0, 2, 0, 2, 0, 0, 1, 0, 3, 3, 1, 1, 3, 2, 1, 1],\n",
       "      dtype=int64)"
      ]
     },
     "execution_count": 49,
     "metadata": {},
     "output_type": "execute_result"
    }
   ],
   "source": [
    "#Predicting on test data\n",
    "Y_pred = model_RFG.predict(X_test) # predicting on test data set\n",
    "Y_pred"
   ]
  },
  {
   "cell_type": "code",
   "execution_count": 50,
   "id": "_oE3j0UXyDun",
   "metadata": {
    "colab": {
     "base_uri": "https://localhost:8080/"
    },
    "id": "_oE3j0UXyDun",
    "outputId": "0d786f4d-cfea-4569-8344-ee57f029f8d1"
   },
   "outputs": [
    {
     "name": "stdout",
     "output_type": "stream",
     "text": [
      "1.0\n"
     ]
    }
   ],
   "source": [
    "#Accuracy of the model\n",
    "acc_RFG=metrics.accuracy_score(Y_pred,Y_test)\n",
    "print(acc_RFG)"
   ]
  },
  {
   "cell_type": "code",
   "execution_count": 51,
   "id": "z09-RyEeyW7C",
   "metadata": {
    "colab": {
     "base_uri": "https://localhost:8080/"
    },
    "id": "z09-RyEeyW7C",
    "outputId": "f6204f1f-21d6-4c42-cbe2-540ba4bd9e2e"
   },
   "outputs": [
    {
     "name": "stdout",
     "output_type": "stream",
     "text": [
      "              precision    recall  f1-score   support\n",
      "\n",
      "           0       1.00      1.00      1.00         5\n",
      "           1       1.00      1.00      1.00         6\n",
      "           2       1.00      1.00      1.00         4\n",
      "           3       1.00      1.00      1.00         5\n",
      "\n",
      "    accuracy                           1.00        20\n",
      "   macro avg       1.00      1.00      1.00        20\n",
      "weighted avg       1.00      1.00      1.00        20\n",
      "\n"
     ]
    }
   ],
   "source": [
    "#Classification Report\n",
    "print(classification_report(Y_test,Y_pred))"
   ]
  },
  {
   "cell_type": "code",
   "execution_count": 52,
   "id": "d0589ced",
   "metadata": {
    "id": "d0589ced"
   },
   "outputs": [],
   "source": [
    "#Adding to DataFrame to compare models\n",
    "results=results.append({'Models':'Random Forest','Accuracy':acc_RFG }, ignore_index=True)"
   ]
  },
  {
   "cell_type": "markdown",
   "id": "ldTBpPmwyqJZ",
   "metadata": {
    "id": "ldTBpPmwyqJZ"
   },
   "source": [
    "## 7. XGBoost Classification"
   ]
  },
  {
   "cell_type": "code",
   "execution_count": 53,
   "id": "YEpSLTtt-gOc",
   "metadata": {
    "colab": {
     "base_uri": "https://localhost:8080/",
     "height": 119
    },
    "id": "YEpSLTtt-gOc",
    "outputId": "9d15c8d6-c3c1-4edc-9d92-72db6e942865"
   },
   "outputs": [
    {
     "data": {
      "text/plain": [
       "RandomizedSearchCV(cv=5,\n",
       "                   estimator=XGBClassifier(base_score=None, booster=None,\n",
       "                                           callbacks=None,\n",
       "                                           colsample_bylevel=None,\n",
       "                                           colsample_bynode=None,\n",
       "                                           colsample_bytree=None,\n",
       "                                           early_stopping_rounds=None,\n",
       "                                           enable_categorical=False,\n",
       "                                           eval_metric=None, feature_types=None,\n",
       "                                           gamma=None, gpu_id=None,\n",
       "                                           grow_policy=None,\n",
       "                                           importance_type=None,\n",
       "                                           interaction_constraints=None,\n",
       "                                           learning_rate...\n",
       "                                           min_child_weight=None, missing=nan,\n",
       "                                           monotone_constraints=None,\n",
       "                                           n_estimators=100, n_jobs=None,\n",
       "                                           num_parallel_tree=None,\n",
       "                                           predictor=None, random_state=None, ...),\n",
       "                   param_distributions=[{'max_depth': <scipy.stats._distn_infrastructure.rv_discrete_frozen object at 0x0000022FCA552FA0>,\n",
       "                                         'n_estimators': <scipy.stats._distn_infrastructure.rv_discrete_frozen object at 0x0000022FCA4CAB80>}])"
      ]
     },
     "execution_count": 53,
     "metadata": {},
     "output_type": "execute_result"
    }
   ],
   "source": [
    "#Hyper Parameter tuning\n",
    "clf = XGBClassifier()\n",
    "param_grid = [{'n_estimators':randint(10,200), 'max_depth': randint(3,8)}]\n",
    "rand_search = RandomizedSearchCV(clf,param_grid,cv=5,n_iter=10)\n",
    "rand_search.fit(X_train,Y_train)"
   ]
  },
  {
   "cell_type": "code",
   "execution_count": 54,
   "id": "RdtXci9A_Duu",
   "metadata": {
    "colab": {
     "base_uri": "https://localhost:8080/"
    },
    "id": "RdtXci9A_Duu",
    "outputId": "b05e9af7-e850-45ae-deff-56bd0e1060d2"
   },
   "outputs": [
    {
     "data": {
      "text/plain": [
       "({'max_depth': 4, 'n_estimators': 176}, 0.9666666666666668)"
      ]
     },
     "execution_count": 54,
     "metadata": {},
     "output_type": "execute_result"
    }
   ],
   "source": [
    "#Value of optimized parameters\n",
    "rand_search.best_params_ , rand_search.best_score_"
   ]
  },
  {
   "cell_type": "code",
   "execution_count": 55,
   "id": "SAytNy8uPVEz",
   "metadata": {
    "colab": {
     "base_uri": "https://localhost:8080/",
     "height": 249
    },
    "id": "SAytNy8uPVEz",
    "outputId": "f621c8ea-5256-4f06-bd5d-2786c0f26d1b"
   },
   "outputs": [
    {
     "data": {
      "text/plain": [
       "XGBClassifier(base_score=None, booster=None, callbacks=None,\n",
       "              colsample_bylevel=None, colsample_bynode=None,\n",
       "              colsample_bytree=None, early_stopping_rounds=None,\n",
       "              enable_categorical=False, eval_metric=None, feature_types=None,\n",
       "              gamma=None, gpu_id=None, grow_policy=None, importance_type=None,\n",
       "              interaction_constraints=None, learning_rate=None, max_bin=None,\n",
       "              max_cat_threshold=None, max_cat_to_onehot=None,\n",
       "              max_delta_step=None, max_depth=4, max_leaves=None,\n",
       "              min_child_weight=None, missing=nan, monotone_constraints=None,\n",
       "              n_estimators=176, n_jobs=None, num_parallel_tree=None,\n",
       "              objective='multi:softprob', predictor=None, ...)"
      ]
     },
     "execution_count": 55,
     "metadata": {},
     "output_type": "execute_result"
    }
   ],
   "source": [
    "#Building xgb model with optimized hyperparameter value\n",
    "model_xgb = XGBClassifier(n_estimators=rand_search.best_params_['n_estimators'],\n",
    "                          max_depth=rand_search.best_params_['max_depth'])\n",
    "model_xgb.fit(X_train, Y_train)"
   ]
  },
  {
   "cell_type": "code",
   "execution_count": 56,
   "id": "eWDcurvSALnY",
   "metadata": {
    "colab": {
     "base_uri": "https://localhost:8080/"
    },
    "id": "eWDcurvSALnY",
    "outputId": "206bbcc3-d77b-4c3e-de7d-e78a8b9f6ef2"
   },
   "outputs": [
    {
     "data": {
      "text/plain": [
       "array([3, 3, 2, 1, 0, 2, 0, 2, 0, 0, 1, 0, 3, 3, 1, 1, 3, 2, 1, 1],\n",
       "      dtype=int64)"
      ]
     },
     "execution_count": 56,
     "metadata": {},
     "output_type": "execute_result"
    }
   ],
   "source": [
    "#Predicting values for test data\n",
    "Y_pred = model_xgb.predict(X_test)\n",
    "Y_pred"
   ]
  },
  {
   "cell_type": "code",
   "execution_count": 57,
   "id": "jTxBp_t1PVJR",
   "metadata": {
    "colab": {
     "base_uri": "https://localhost:8080/"
    },
    "id": "jTxBp_t1PVJR",
    "outputId": "37ef1afb-1263-4946-ade6-aa0a0c8f1893"
   },
   "outputs": [
    {
     "name": "stdout",
     "output_type": "stream",
     "text": [
      "1.0\n"
     ]
    }
   ],
   "source": [
    "#Accuracy of the model\n",
    "acc_XGB=metrics.accuracy_score(Y_pred,Y_test)\n",
    "print(acc_XGB)"
   ]
  },
  {
   "cell_type": "code",
   "execution_count": 58,
   "id": "1vOIVXOOPVNu",
   "metadata": {
    "colab": {
     "base_uri": "https://localhost:8080/"
    },
    "id": "1vOIVXOOPVNu",
    "outputId": "c5a4f0b5-fc96-4dc7-d6e7-44526d275ee8"
   },
   "outputs": [
    {
     "name": "stdout",
     "output_type": "stream",
     "text": [
      "              precision    recall  f1-score   support\n",
      "\n",
      "           0       1.00      1.00      1.00         5\n",
      "           1       1.00      1.00      1.00         6\n",
      "           2       1.00      1.00      1.00         4\n",
      "           3       1.00      1.00      1.00         5\n",
      "\n",
      "    accuracy                           1.00        20\n",
      "   macro avg       1.00      1.00      1.00        20\n",
      "weighted avg       1.00      1.00      1.00        20\n",
      "\n"
     ]
    }
   ],
   "source": [
    "#Classifcation Report\n",
    "print(classification_report(Y_test,Y_pred))"
   ]
  },
  {
   "cell_type": "code",
   "execution_count": 59,
   "id": "kZ-ZmKFVUVl4",
   "metadata": {
    "id": "kZ-ZmKFVUVl4"
   },
   "outputs": [],
   "source": [
    "#Adding to DataFrame to compare models\n",
    "results=results.append({'Models':'XGBoost Model','Accuracy':acc_XGB }, ignore_index=True)"
   ]
  },
  {
   "cell_type": "markdown",
   "id": "e793c708",
   "metadata": {
    "id": "e793c708"
   },
   "source": [
    "# Model Comparison"
   ]
  },
  {
   "cell_type": "code",
   "execution_count": 60,
   "id": "44a13959",
   "metadata": {
    "colab": {
     "base_uri": "https://localhost:8080/",
     "height": 269
    },
    "id": "44a13959",
    "outputId": "a1264053-f83d-4e8c-9f96-46b796d4af72"
   },
   "outputs": [
    {
     "data": {
      "text/html": [
       "<div>\n",
       "<style scoped>\n",
       "    .dataframe tbody tr th:only-of-type {\n",
       "        vertical-align: middle;\n",
       "    }\n",
       "\n",
       "    .dataframe tbody tr th {\n",
       "        vertical-align: top;\n",
       "    }\n",
       "\n",
       "    .dataframe thead th {\n",
       "        text-align: right;\n",
       "    }\n",
       "</style>\n",
       "<table border=\"1\" class=\"dataframe\">\n",
       "  <thead>\n",
       "    <tr style=\"text-align: right;\">\n",
       "      <th></th>\n",
       "      <th>Models</th>\n",
       "      <th>Accuracy</th>\n",
       "    </tr>\n",
       "  </thead>\n",
       "  <tbody>\n",
       "    <tr>\n",
       "      <th>0</th>\n",
       "      <td>Logistics Regression</td>\n",
       "      <td>1.0</td>\n",
       "    </tr>\n",
       "    <tr>\n",
       "      <th>1</th>\n",
       "      <td>Naive Bayes</td>\n",
       "      <td>1.0</td>\n",
       "    </tr>\n",
       "    <tr>\n",
       "      <th>2</th>\n",
       "      <td>KNN</td>\n",
       "      <td>1.0</td>\n",
       "    </tr>\n",
       "    <tr>\n",
       "      <th>3</th>\n",
       "      <td>SVM</td>\n",
       "      <td>1.0</td>\n",
       "    </tr>\n",
       "    <tr>\n",
       "      <th>4</th>\n",
       "      <td>Decision Tree</td>\n",
       "      <td>1.0</td>\n",
       "    </tr>\n",
       "    <tr>\n",
       "      <th>5</th>\n",
       "      <td>Random Forest</td>\n",
       "      <td>1.0</td>\n",
       "    </tr>\n",
       "    <tr>\n",
       "      <th>6</th>\n",
       "      <td>XGBoost Model</td>\n",
       "      <td>1.0</td>\n",
       "    </tr>\n",
       "  </tbody>\n",
       "</table>\n",
       "</div>"
      ],
      "text/plain": [
       "                 Models  Accuracy\n",
       "0  Logistics Regression       1.0\n",
       "1           Naive Bayes       1.0\n",
       "2                   KNN       1.0\n",
       "3                   SVM       1.0\n",
       "4         Decision Tree       1.0\n",
       "5         Random Forest       1.0\n",
       "6         XGBoost Model       1.0"
      ]
     },
     "execution_count": 60,
     "metadata": {},
     "output_type": "execute_result"
    }
   ],
   "source": [
    "results.sort_values(['Accuracy'], inplace=True, ignore_index=True, ascending=False )\n",
    "results"
   ]
  },
  {
   "cell_type": "markdown",
   "id": "hlEP2PFvOeYE",
   "metadata": {
    "id": "hlEP2PFvOeYE"
   },
   "source": [
    "Observation : Naive Bayes , SVM , Decision Tree and XGBoost Models are giving 100% Accuracy. XGBoost Model is advance model among these models so we are finalizing this model."
   ]
  },
  {
   "cell_type": "markdown",
   "id": "t3UDKyeXPn-T",
   "metadata": {
    "id": "t3UDKyeXPn-T"
   },
   "source": [
    "# Final Model : XGBoost"
   ]
  },
  {
   "cell_type": "code",
   "execution_count": 61,
   "id": "bd927016",
   "metadata": {
    "colab": {
     "base_uri": "https://localhost:8080/",
     "height": 249
    },
    "id": "bd927016",
    "outputId": "e7a88d2c-5622-4f28-fa02-423e854a4153"
   },
   "outputs": [
    {
     "data": {
      "text/plain": [
       "XGBClassifier(base_score=None, booster=None, callbacks=None,\n",
       "              colsample_bylevel=None, colsample_bynode=None,\n",
       "              colsample_bytree=None, early_stopping_rounds=None,\n",
       "              enable_categorical=False, eval_metric=None, feature_types=None,\n",
       "              gamma=None, gpu_id=None, grow_policy=None, importance_type=None,\n",
       "              interaction_constraints=None, learning_rate=None, max_bin=None,\n",
       "              max_cat_threshold=None, max_cat_to_onehot=None,\n",
       "              max_delta_step=None, max_depth=7, max_leaves=None,\n",
       "              min_child_weight=None, missing=nan, monotone_constraints=None,\n",
       "              n_estimators=61, n_jobs=None, num_parallel_tree=None,\n",
       "              objective='multi:softprob', predictor=None, ...)"
      ]
     },
     "execution_count": 61,
     "metadata": {},
     "output_type": "execute_result"
    }
   ],
   "source": [
    "# Building model with whole data (train and test)\n",
    "\n",
    "#Building xgb model with optimized hyperparameter value\n",
    "model_final = XGBClassifier(n_estimators=61, max_depth=7)\n",
    "\n",
    "#Building Random Forest Model with optimized parameters\n",
    "#model_final=RandomForestClassifier(n_estimators=66, criterion='gini', max_depth=5)\n",
    "\n",
    "model_final.fit(X, Y)"
   ]
  },
  {
   "cell_type": "markdown",
   "id": "svDRYnvwSMTZ",
   "metadata": {
    "id": "svDRYnvwSMTZ"
   },
   "source": [
    "## Saving Model in to file"
   ]
  },
  {
   "cell_type": "code",
   "execution_count": 62,
   "id": "KNLUPhmDR-cP",
   "metadata": {
    "id": "KNLUPhmDR-cP"
   },
   "outputs": [],
   "source": [
    "#Saving model into pkl file\n",
    "pickle.dump(model_final,open('C:/Users/Sudeep/python files/DS Project 2/Deployement/XGBmodel.pkl','wb'))\n",
    "\n",
    "#Saving tfid vectorizer into pkl file\n",
    "pickle.dump(vectorizer.vocabulary_,open(\"C:/Users/Sudeep/python files/DS Project 2/Deployement/feature.pkl\",\"wb\"))"
   ]
  }
 ],
 "metadata": {
  "colab": {
   "provenance": []
  },
  "kernelspec": {
   "display_name": "Python 3 (ipykernel)",
   "language": "python",
   "name": "python3"
  },
  "language_info": {
   "codemirror_mode": {
    "name": "ipython",
    "version": 3
   },
   "file_extension": ".py",
   "mimetype": "text/x-python",
   "name": "python",
   "nbconvert_exporter": "python",
   "pygments_lexer": "ipython3",
   "version": "3.9.13"
  }
 },
 "nbformat": 4,
 "nbformat_minor": 5
}
